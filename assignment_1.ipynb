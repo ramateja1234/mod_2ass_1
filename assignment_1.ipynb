{
  "metadata": {
    "kernelspec": {
      "name": "python",
      "display_name": "Python (Pyodide)",
      "language": "python"
    },
    "language_info": {
      "codemirror_mode": {
        "name": "python",
        "version": 3
      },
      "file_extension": ".py",
      "mimetype": "text/x-python",
      "name": "python",
      "nbconvert_exporter": "python",
      "pygments_lexer": "ipython3",
      "version": "3.8"
    }
  },
  "nbformat_minor": 4,
  "nbformat": 4,
  "cells": [
    {
      "cell_type": "markdown",
      "source": "# TOOLS for DATA SCIENCE\n",
      "metadata": {
        "tags": [],
        "editable": true,
        "slideshow": {
          "slide_type": ""
        }
      }
    },
    {
      "cell_type": "markdown",
      "source": "## INTRODUCTION",
      "metadata": {
        "tags": [],
        "editable": true,
        "slideshow": {
          "slide_type": ""
        }
      }
    },
    {
      "cell_type": "markdown",
      "source": "### DATA SCIENCE LANGUAGES\n- **Python.**\n- **R.**\n- **SQL.**\n- **Scala.**\n- **Julia.**\n- **JavaScript.**\n- **Java.**\n- **C/C++**",
      "metadata": {
        "tags": [],
        "editable": true,
        "slideshow": {
          "slide_type": ""
        }
      }
    },
    {
      "cell_type": "markdown",
      "source": "### DATA SCIENCE LIBRARIES\n- **Python Libraries:**\n  - Pandas\n  - NumPy\n  - Matplotlib\n  - Seaborn\n  - Scikit-learn\n\n- **R Libraries:**\n  - dplyr\n  - ggplot2\n  - caret\n\n- **SQL Libraries:**\n  - SQLAlchemy\n  - psycopg2 (for PostgreSQL)\n  - pymysql (for MySQL/MariaDB)",
      "metadata": {
        "tags": [],
        "editable": true,
        "slideshow": {
          "slide_type": ""
        }
      }
    },
    {
      "cell_type": "markdown",
      "source": "### DATA SCIENCE TOOLS\n- **Python Tools:**\n  - Jupyter Notebook / JupyterLab\n  - Anaconda (includes Python and many data science libraries)\n  - Spyder (IDE for scientific computing)\n  - PyCharm (IDE with strong data science support)\n  \n- **R Tools:**\n  - RStudio\n  - R command-line interface (CLI)\n  \n- **Data Visualization Tools:**\n  - Tableau\n  - Power BI\n  - Plotly\n  \n- **Big Data Tools:**\n  - Apache Hadoop\n  - Apache Spark\n  \n- **Database Tools:**\n  - MySQL Workbench\n  - PostgreSQL\n  \n- **Version Control Tools:**\n  - Git\n  - GitHub\n  - GitLab",
      "metadata": {
        "tags": [],
        "editable": true,
        "slideshow": {
          "slide_type": ""
        }
      }
    },
    {
      "cell_type": "markdown",
      "source": "### ARTHMATIC EXPRESSION",
      "metadata": {
        "tags": [],
        "editable": true,
        "slideshow": {
          "slide_type": ""
        }
      }
    },
    {
      "cell_type": "code",
      "source": "# multiply two numbers\na=3\nb=2\nprint(a*b)\n# add two numbers\nprint(a+b)",
      "metadata": {
        "trusted": true,
        "tags": [],
        "editable": true,
        "slideshow": {
          "slide_type": ""
        }
      },
      "outputs": [
        {
          "name": "stdout",
          "text": "6\n5\n",
          "output_type": "stream"
        }
      ],
      "execution_count": 4
    },
    {
      "cell_type": "markdown",
      "source": "### MINUTES TO HOURS",
      "metadata": {
        "tags": [],
        "editable": true,
        "slideshow": {
          "slide_type": ""
        }
      }
    },
    {
      "cell_type": "code",
      "source": "b = input(\"enter the minutes\")",
      "metadata": {
        "trusted": true,
        "tags": [],
        "editable": true,
        "slideshow": {
          "slide_type": ""
        }
      },
      "outputs": [
        {
          "output_type": "stream",
          "name": "stdin",
          "text": "enter the minutes 120\n"
        }
      ],
      "execution_count": 21
    },
    {
      "cell_type": "code",
      "source": "#converting above minutes to hours\nfloat(b.result())/60.0",
      "metadata": {
        "trusted": true,
        "tags": [],
        "editable": true,
        "slideshow": {
          "slide_type": ""
        }
      },
      "outputs": [
        {
          "execution_count": 27,
          "output_type": "execute_result",
          "data": {
            "text/plain": "2.0"
          },
          "metadata": {}
        }
      ],
      "execution_count": 27
    },
    {
      "cell_type": "markdown",
      "source": "## OBJECTIVES",
      "metadata": {
        "tags": [],
        "editable": true,
        "slideshow": {
          "slide_type": ""
        }
      }
    },
    {
      "cell_type": "markdown",
      "source": "## AUTHOR\nRAMA TEJA",
      "metadata": {
        "tags": [],
        "editable": true,
        "slideshow": {
          "slide_type": ""
        }
      }
    }
  ]
}